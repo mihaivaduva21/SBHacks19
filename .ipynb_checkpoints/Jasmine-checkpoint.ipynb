{
 "cells": [
  {
   "cell_type": "code",
   "execution_count": 5,
   "metadata": {
    "colab": {
     "base_uri": "https://localhost:8080/",
     "height": 51
    },
    "colab_type": "code",
    "executionInfo": {
     "elapsed": 2824,
     "status": "ok",
     "timestamp": 1547333588383,
     "user": {
      "displayName": "Shubham Srivastava",
      "photoUrl": "https://lh5.googleusercontent.com/-zbnpt7MHPQI/AAAAAAAAAAI/AAAAAAAARV4/PKmU38R3ufc/s64/photo.jpg",
      "userId": "10533616821923324892"
     },
     "user_tz": 480
    },
    "id": "35fohPFgzkKk",
    "outputId": "05956f4a-35b0-4e06-edd0-81ff2628aa31"
   },
   "outputs": [
    {
     "name": "stdout",
     "output_type": "stream",
     "text": [
      "Requirement already satisfied: networkx in /usr/local/lib/python3.6/dist-packages (2.2)\n",
      "Requirement already satisfied: decorator>=4.3.0 in /usr/local/lib/python3.6/dist-packages (from networkx) (4.3.0)\n"
     ]
    }
   ],
   "source": [
    "import numpy as np\n",
    "import networkx as nx\n",
    "import matplotlib.pyplot as plt\n",
    "!matplotlib inline"
   ]
  },
  {
   "cell_type": "code",
   "execution_count": 0,
   "metadata": {
    "colab": {},
    "colab_type": "code",
    "id": "inSpg07cWH3D"
   },
   "outputs": [],
   "source": [
    "options = { 'node_color': 'black','node_size': 100,'width': 3}"
   ]
  },
  {
   "cell_type": "code",
   "execution_count": 1,
   "metadata": {
    "colab": {},
    "colab_type": "code",
    "id": "hCYaDhMHRY1t"
   },
   "outputs": [
    {
     "ename": "SyntaxError",
     "evalue": "invalid syntax (<ipython-input-1-b0977ed152fa>, line 14)",
     "output_type": "error",
     "traceback": [
      "\u001b[0;36m  File \u001b[0;32m\"<ipython-input-1-b0977ed152fa>\"\u001b[0;36m, line \u001b[0;32m14\u001b[0m\n\u001b[0;31m    nx.draw_random(self.)\u001b[0m\n\u001b[0m                        ^\u001b[0m\n\u001b[0;31mSyntaxError\u001b[0m\u001b[0;31m:\u001b[0m invalid syntax\n"
     ]
    }
   ],
   "source": [
    "#Translate sentence to a Scene\n",
    "class Scene():\n",
    "  #Each sentece is a temporal evolution of graphs\n",
    "  \n",
    "  def __init__(self):\n",
    "    self.node_list = []\n",
    "    self.sceneGraph = nx.DiGraph()\n",
    "    self.temporalListofGraphs = []\n",
    "    \n",
    "  def addNode(self, node):\n",
    "    self.sceneGraph.add_node(node)\n",
    "    \n",
    "  def drawGraphatTime(self, time):\n",
    "    nx.draw_random(self.)\n",
    "    \n",
    "    "
   ]
  },
  {
   "cell_type": "code",
   "execution_count": null,
   "metadata": {},
   "outputs": [],
   "source": []
  },
  {
   "cell_type": "code",
   "execution_count": null,
   "metadata": {},
   "outputs": [],
   "source": []
  }
 ],
 "metadata": {
  "colab": {
   "name": "Jasmine.ipynb",
   "provenance": [],
   "version": "0.3.2"
  },
  "kernelspec": {
   "display_name": "Python 3",
   "language": "python",
   "name": "python3"
  },
  "language_info": {
   "codemirror_mode": {
    "name": "ipython",
    "version": 3
   },
   "file_extension": ".py",
   "mimetype": "text/x-python",
   "name": "python",
   "nbconvert_exporter": "python",
   "pygments_lexer": "ipython3",
   "version": "3.7.2"
  }
 },
 "nbformat": 4,
 "nbformat_minor": 1
}
